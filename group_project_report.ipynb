{
 "cells": [
  {
   "cell_type": "markdown",
   "id": "61f55274-dff1-4017-b87b-d86e6b073243",
   "metadata": {},
   "source": [
    "# Abalone: Oceans Phenomenon\n",
    "\n",
    "*DSCI 100 006 2022W2 - Group Project Proposal - Group 22*"
   ]
  },
  {
   "cell_type": "markdown",
   "id": "51bf1899-aee9-486c-b914-72c84cb1b0ab",
   "metadata": {},
   "source": [
    "## TODOs\n",
    "\n",
    "* clean tuning alg\n",
    "* intro + source"
   ]
  },
  {
   "cell_type": "markdown",
   "id": "92f9a5c2-74b7-481f-b5ac-e49d9684861c",
   "metadata": {},
   "source": [
    "## 1 - Introduction\n",
    "\n",
    "**Background information for the reader**\n",
    "- Abalones are large sea snails found in coastal salt water of New Zealand, Australia, South Africa, Japan and the west coast of North America. Abalone is considered a culinary delicacy but was nearly brought to extinction. As such, harvesting abalones are now under strict regulations.\n",
    "\n",
    "*How can we apply classification to abalones?*\n",
    "- Abalone is classified into 3 categories of gender: male, female and infant. Male and female classification is important for economic purposes while the infant category was established in an effort to maintain abalone sustainability.\n",
    "\n",
    "**What is our predictive question?**\n",
    "\n",
    "`Question:` *Can we accurately predict the effective gender of a given abalone using factors of length, diameter, height, and weight?*\n",
    "- As stated above, we will define ‘effective gender’ as falling into one of three categories, male, female, and infant. The classification of abalone gender will be determined by factors of height, diameter, whole weight, and length.\n",
    "- We will define a reasonable accuracy to be around $80\\%$ for our data analysis.\n",
    "\n",
    "**What is the dataset we will be using?**\n",
    "- The data set used for this project is the abalone data set provided by [UC Irvine Machine Learning Repository](https://archive.ics.uci.edu/ml/datasets/Abalone). The dataset provides multiple continuous data such as length, diameter, height, whole weight, shucked weight and shell weight as well as nominal data of gender. As such, this dataset is optimal for a classification problem.\n"
   ]
  },
  {
   "cell_type": "code",
   "execution_count": 1,
   "id": "59b1fc0d-953f-4c5b-bede-2414a7e2b83d",
   "metadata": {},
   "outputs": [
    {
     "data": {
      "text/html": [
       "'The proposal is also missing an explanation as to why the variables were chosen - use some relevant sources for this.'"
      ],
      "text/latex": [
       "'The proposal is also missing an explanation as to why the variables were chosen - use some relevant sources for this.'"
      ],
      "text/markdown": [
       "'The proposal is also missing an explanation as to why the variables were chosen - use some relevant sources for this.'"
      ],
      "text/plain": [
       "[1] \"The proposal is also missing an explanation as to why the variables were chosen - use some relevant sources for this.\""
      ]
     },
     "metadata": {},
     "output_type": "display_data"
    }
   ],
   "source": [
    "# !!! TODO\n",
    "\"The proposal is also missing an explanation as to why the variables were chosen - use some relevant sources for this.\""
   ]
  },
  {
   "cell_type": "markdown",
   "id": "ee96e3b2-16c6-4110-916b-f2f60746401c",
   "metadata": {
    "tags": []
   },
   "source": [
    "## 2.1 - Methods & Results - Loading & Tidying the Data"
   ]
  },
  {
   "cell_type": "markdown",
   "id": "548d2f38-59ee-460b-b306-da5d890dc66d",
   "metadata": {},
   "source": [
    "- We will first load the necessary packages to perform our processes."
   ]
  },
  {
   "cell_type": "code",
   "execution_count": 2,
   "id": "06a12bf3-1184-4d59-9c69-77f15a32fe2a",
   "metadata": {
    "tags": []
   },
   "outputs": [
    {
     "name": "stderr",
     "output_type": "stream",
     "text": [
      "── \u001b[1mAttaching packages\u001b[22m ─────────────────────────────────────── tidyverse 1.3.1 ──\n",
      "\n",
      "\u001b[32m✔\u001b[39m \u001b[34mggplot2\u001b[39m 3.3.6     \u001b[32m✔\u001b[39m \u001b[34mpurrr  \u001b[39m 0.3.4\n",
      "\u001b[32m✔\u001b[39m \u001b[34mtibble \u001b[39m 3.1.7     \u001b[32m✔\u001b[39m \u001b[34mdplyr  \u001b[39m 1.0.9\n",
      "\u001b[32m✔\u001b[39m \u001b[34mtidyr  \u001b[39m 1.2.0     \u001b[32m✔\u001b[39m \u001b[34mstringr\u001b[39m 1.4.0\n",
      "\u001b[32m✔\u001b[39m \u001b[34mreadr  \u001b[39m 2.1.2     \u001b[32m✔\u001b[39m \u001b[34mforcats\u001b[39m 0.5.1\n",
      "\n",
      "── \u001b[1mConflicts\u001b[22m ────────────────────────────────────────── tidyverse_conflicts() ──\n",
      "\u001b[31m✖\u001b[39m \u001b[34mdplyr\u001b[39m::\u001b[32mfilter()\u001b[39m masks \u001b[34mstats\u001b[39m::filter()\n",
      "\u001b[31m✖\u001b[39m \u001b[34mdplyr\u001b[39m::\u001b[32mlag()\u001b[39m    masks \u001b[34mstats\u001b[39m::lag()\n",
      "\n",
      "── \u001b[1mAttaching packages\u001b[22m ────────────────────────────────────── tidymodels 1.0.0 ──\n",
      "\n",
      "\u001b[32m✔\u001b[39m \u001b[34mbroom       \u001b[39m 1.0.0     \u001b[32m✔\u001b[39m \u001b[34mrsample     \u001b[39m 1.0.0\n",
      "\u001b[32m✔\u001b[39m \u001b[34mdials       \u001b[39m 1.0.0     \u001b[32m✔\u001b[39m \u001b[34mtune        \u001b[39m 1.0.0\n",
      "\u001b[32m✔\u001b[39m \u001b[34minfer       \u001b[39m 1.0.2     \u001b[32m✔\u001b[39m \u001b[34mworkflows   \u001b[39m 1.0.0\n",
      "\u001b[32m✔\u001b[39m \u001b[34mmodeldata   \u001b[39m 1.0.0     \u001b[32m✔\u001b[39m \u001b[34mworkflowsets\u001b[39m 1.0.0\n",
      "\u001b[32m✔\u001b[39m \u001b[34mparsnip     \u001b[39m 1.0.0     \u001b[32m✔\u001b[39m \u001b[34myardstick   \u001b[39m 1.0.0\n",
      "\u001b[32m✔\u001b[39m \u001b[34mrecipes     \u001b[39m 1.0.1     \n",
      "\n",
      "── \u001b[1mConflicts\u001b[22m ───────────────────────────────────────── tidymodels_conflicts() ──\n",
      "\u001b[31m✖\u001b[39m \u001b[34mscales\u001b[39m::\u001b[32mdiscard()\u001b[39m masks \u001b[34mpurrr\u001b[39m::discard()\n",
      "\u001b[31m✖\u001b[39m \u001b[34mdplyr\u001b[39m::\u001b[32mfilter()\u001b[39m   masks \u001b[34mstats\u001b[39m::filter()\n",
      "\u001b[31m✖\u001b[39m \u001b[34mrecipes\u001b[39m::\u001b[32mfixed()\u001b[39m  masks \u001b[34mstringr\u001b[39m::fixed()\n",
      "\u001b[31m✖\u001b[39m \u001b[34mdplyr\u001b[39m::\u001b[32mlag()\u001b[39m      masks \u001b[34mstats\u001b[39m::lag()\n",
      "\u001b[31m✖\u001b[39m \u001b[34myardstick\u001b[39m::\u001b[32mspec()\u001b[39m masks \u001b[34mreadr\u001b[39m::spec()\n",
      "\u001b[31m✖\u001b[39m \u001b[34mrecipes\u001b[39m::\u001b[32mstep()\u001b[39m   masks \u001b[34mstats\u001b[39m::step()\n",
      "\u001b[34m•\u001b[39m Search for functions across packages at \u001b[32mhttps://www.tidymodels.org/find/\u001b[39m\n",
      "\n"
     ]
    }
   ],
   "source": [
    "### Run this cell before continuing. \n",
    "library(repr)\n",
    "library(tidyverse)\n",
    "library(tidymodels)\n",
    "\n",
    "options(repr.matrix.max.rows = 6) #limits output of dataframes to 6 rows"
   ]
  },
  {
   "cell_type": "markdown",
   "id": "f2bf83cc-16d8-4625-8d62-f30265f7f35d",
   "metadata": {},
   "source": [
    "- We will conduct our data analysis by first loading our abalone data from the [UCI Machine Learning Repository](https://archive.ics.uci.edu/ml/datasets/Abalone). Since the dataset did not include column names, we will `rename` them and set the correct data types for `sex` (as a factor) and `rings` (as integer)."
   ]
  },
  {
   "cell_type": "code",
   "execution_count": 3,
   "id": "038231cd-adb7-4035-bc8a-6341e7b5946a",
   "metadata": {},
   "outputs": [
    {
     "name": "stderr",
     "output_type": "stream",
     "text": [
      "\u001b[1mRows: \u001b[22m\u001b[34m4177\u001b[39m \u001b[1mColumns: \u001b[22m\u001b[34m9\u001b[39m\n",
      "\u001b[36m──\u001b[39m \u001b[1mColumn specification\u001b[22m \u001b[36m────────────────────────────────────────────────────────\u001b[39m\n",
      "\u001b[1mDelimiter:\u001b[22m \",\"\n",
      "\u001b[31mchr\u001b[39m (1): X1\n",
      "\u001b[32mdbl\u001b[39m (8): X2, X3, X4, X5, X6, X7, X8, X9\n",
      "\n",
      "\u001b[36mℹ\u001b[39m Use `spec()` to retrieve the full column specification for this data.\n",
      "\u001b[36mℹ\u001b[39m Specify the column types or set `show_col_types = FALSE` to quiet this message.\n"
     ]
    },
    {
     "data": {
      "text/html": [
       "<table class=\"dataframe\">\n",
       "<caption>A tibble: 4177 × 9</caption>\n",
       "<thead>\n",
       "\t<tr><th scope=col>sex</th><th scope=col>length</th><th scope=col>diameter</th><th scope=col>height</th><th scope=col>weight</th><th scope=col>shucked_weight</th><th scope=col>viscera_weight</th><th scope=col>shell_weight</th><th scope=col>rings</th></tr>\n",
       "\t<tr><th scope=col>&lt;fct&gt;</th><th scope=col>&lt;dbl&gt;</th><th scope=col>&lt;dbl&gt;</th><th scope=col>&lt;dbl&gt;</th><th scope=col>&lt;dbl&gt;</th><th scope=col>&lt;dbl&gt;</th><th scope=col>&lt;dbl&gt;</th><th scope=col>&lt;dbl&gt;</th><th scope=col>&lt;int&gt;</th></tr>\n",
       "</thead>\n",
       "<tbody>\n",
       "\t<tr><td>M</td><td>0.455</td><td>0.365</td><td>0.095</td><td>0.5140</td><td>0.2245</td><td>0.1010</td><td>0.15</td><td>15</td></tr>\n",
       "\t<tr><td>M</td><td>0.350</td><td>0.265</td><td>0.090</td><td>0.2255</td><td>0.0995</td><td>0.0485</td><td>0.07</td><td> 7</td></tr>\n",
       "\t<tr><td>F</td><td>0.530</td><td>0.420</td><td>0.135</td><td>0.6770</td><td>0.2565</td><td>0.1415</td><td>0.21</td><td> 9</td></tr>\n",
       "\t<tr><td>⋮</td><td>⋮</td><td>⋮</td><td>⋮</td><td>⋮</td><td>⋮</td><td>⋮</td><td>⋮</td><td>⋮</td></tr>\n",
       "\t<tr><td>M</td><td>0.600</td><td>0.475</td><td>0.205</td><td>1.1760</td><td>0.5255</td><td>0.2875</td><td>0.308</td><td> 9</td></tr>\n",
       "\t<tr><td>F</td><td>0.625</td><td>0.485</td><td>0.150</td><td>1.0945</td><td>0.5310</td><td>0.2610</td><td>0.296</td><td>10</td></tr>\n",
       "\t<tr><td>M</td><td>0.710</td><td>0.555</td><td>0.195</td><td>1.9485</td><td>0.9455</td><td>0.3765</td><td>0.495</td><td>12</td></tr>\n",
       "</tbody>\n",
       "</table>\n"
      ],
      "text/latex": [
       "A tibble: 4177 × 9\n",
       "\\begin{tabular}{lllllllll}\n",
       " sex & length & diameter & height & weight & shucked\\_weight & viscera\\_weight & shell\\_weight & rings\\\\\n",
       " <fct> & <dbl> & <dbl> & <dbl> & <dbl> & <dbl> & <dbl> & <dbl> & <int>\\\\\n",
       "\\hline\n",
       "\t M & 0.455 & 0.365 & 0.095 & 0.5140 & 0.2245 & 0.1010 & 0.15 & 15\\\\\n",
       "\t M & 0.350 & 0.265 & 0.090 & 0.2255 & 0.0995 & 0.0485 & 0.07 &  7\\\\\n",
       "\t F & 0.530 & 0.420 & 0.135 & 0.6770 & 0.2565 & 0.1415 & 0.21 &  9\\\\\n",
       "\t ⋮ & ⋮ & ⋮ & ⋮ & ⋮ & ⋮ & ⋮ & ⋮ & ⋮\\\\\n",
       "\t M & 0.600 & 0.475 & 0.205 & 1.1760 & 0.5255 & 0.2875 & 0.308 &  9\\\\\n",
       "\t F & 0.625 & 0.485 & 0.150 & 1.0945 & 0.5310 & 0.2610 & 0.296 & 10\\\\\n",
       "\t M & 0.710 & 0.555 & 0.195 & 1.9485 & 0.9455 & 0.3765 & 0.495 & 12\\\\\n",
       "\\end{tabular}\n"
      ],
      "text/markdown": [
       "\n",
       "A tibble: 4177 × 9\n",
       "\n",
       "| sex &lt;fct&gt; | length &lt;dbl&gt; | diameter &lt;dbl&gt; | height &lt;dbl&gt; | weight &lt;dbl&gt; | shucked_weight &lt;dbl&gt; | viscera_weight &lt;dbl&gt; | shell_weight &lt;dbl&gt; | rings &lt;int&gt; |\n",
       "|---|---|---|---|---|---|---|---|---|\n",
       "| M | 0.455 | 0.365 | 0.095 | 0.5140 | 0.2245 | 0.1010 | 0.15 | 15 |\n",
       "| M | 0.350 | 0.265 | 0.090 | 0.2255 | 0.0995 | 0.0485 | 0.07 |  7 |\n",
       "| F | 0.530 | 0.420 | 0.135 | 0.6770 | 0.2565 | 0.1415 | 0.21 |  9 |\n",
       "| ⋮ | ⋮ | ⋮ | ⋮ | ⋮ | ⋮ | ⋮ | ⋮ | ⋮ |\n",
       "| M | 0.600 | 0.475 | 0.205 | 1.1760 | 0.5255 | 0.2875 | 0.308 |  9 |\n",
       "| F | 0.625 | 0.485 | 0.150 | 1.0945 | 0.5310 | 0.2610 | 0.296 | 10 |\n",
       "| M | 0.710 | 0.555 | 0.195 | 1.9485 | 0.9455 | 0.3765 | 0.495 | 12 |\n",
       "\n"
      ],
      "text/plain": [
       "     sex length diameter height weight shucked_weight viscera_weight\n",
       "1    M   0.455  0.365    0.095  0.5140 0.2245         0.1010        \n",
       "2    M   0.350  0.265    0.090  0.2255 0.0995         0.0485        \n",
       "3    F   0.530  0.420    0.135  0.6770 0.2565         0.1415        \n",
       "⋮    ⋮   ⋮      ⋮        ⋮      ⋮      ⋮              ⋮             \n",
       "4175 M   0.600  0.475    0.205  1.1760 0.5255         0.2875        \n",
       "4176 F   0.625  0.485    0.150  1.0945 0.5310         0.2610        \n",
       "4177 M   0.710  0.555    0.195  1.9485 0.9455         0.3765        \n",
       "     shell_weight rings\n",
       "1    0.15         15   \n",
       "2    0.07          7   \n",
       "3    0.21          9   \n",
       "⋮    ⋮            ⋮    \n",
       "4175 0.308         9   \n",
       "4176 0.296        10   \n",
       "4177 0.495        12   "
      ]
     },
     "metadata": {},
     "output_type": "display_data"
    }
   ],
   "source": [
    "## READING AND TIDYING\n",
    "\n",
    "url <- \"https://archive.ics.uci.edu/ml/machine-learning-databases/abalone/abalone.data\"\n",
    "\n",
    "# read, rename, and mutate as needed\n",
    "abalone <-  read_csv(url, col_names = FALSE) |>\n",
    "        rename(sex = X1,\n",
    "               length = X2,\n",
    "               diameter = X3,\n",
    "               height = X4,\n",
    "               weight = X5, # weight == whole_weight but as we are ignoring the rest we name it as such\n",
    "               shucked_weight = X6,\n",
    "               viscera_weight = X7,\n",
    "               shell_weight = X8,\n",
    "               rings = X9) |>\n",
    "        mutate(sex = as.factor(sex), rings = as.integer(rings))\n",
    "\n",
    "abalone"
   ]
  },
  {
   "cell_type": "markdown",
   "id": "45ccf38b-7f55-4682-a698-bce9be31dc06",
   "metadata": {},
   "source": [
    "**Table 2.1.1** - tibble of dataset with updated column names and appropriate type conversions"
   ]
  },
  {
   "cell_type": "markdown",
   "id": "1acd3498-1a25-497d-af6e-c0e69909671f",
   "metadata": {},
   "source": [
    "- With the data now tidy, we can `select` the factors we will need for prediction: `sex, length, diameter, height`, and `width`."
   ]
  },
  {
   "cell_type": "code",
   "execution_count": 4,
   "id": "b5870e07-76ba-4501-9fb2-3859cc620d33",
   "metadata": {},
   "outputs": [
    {
     "data": {
      "text/html": [
       "<table class=\"dataframe\">\n",
       "<caption>A tibble: 4177 × 5</caption>\n",
       "<thead>\n",
       "\t<tr><th scope=col>sex</th><th scope=col>length</th><th scope=col>diameter</th><th scope=col>height</th><th scope=col>weight</th></tr>\n",
       "\t<tr><th scope=col>&lt;fct&gt;</th><th scope=col>&lt;dbl&gt;</th><th scope=col>&lt;dbl&gt;</th><th scope=col>&lt;dbl&gt;</th><th scope=col>&lt;dbl&gt;</th></tr>\n",
       "</thead>\n",
       "<tbody>\n",
       "\t<tr><td>M</td><td>0.455</td><td>0.365</td><td>0.095</td><td>0.5140</td></tr>\n",
       "\t<tr><td>M</td><td>0.350</td><td>0.265</td><td>0.090</td><td>0.2255</td></tr>\n",
       "\t<tr><td>F</td><td>0.530</td><td>0.420</td><td>0.135</td><td>0.6770</td></tr>\n",
       "\t<tr><td>⋮</td><td>⋮</td><td>⋮</td><td>⋮</td><td>⋮</td></tr>\n",
       "\t<tr><td>M</td><td>0.600</td><td>0.475</td><td>0.205</td><td>1.1760</td></tr>\n",
       "\t<tr><td>F</td><td>0.625</td><td>0.485</td><td>0.150</td><td>1.0945</td></tr>\n",
       "\t<tr><td>M</td><td>0.710</td><td>0.555</td><td>0.195</td><td>1.9485</td></tr>\n",
       "</tbody>\n",
       "</table>\n"
      ],
      "text/latex": [
       "A tibble: 4177 × 5\n",
       "\\begin{tabular}{lllll}\n",
       " sex & length & diameter & height & weight\\\\\n",
       " <fct> & <dbl> & <dbl> & <dbl> & <dbl>\\\\\n",
       "\\hline\n",
       "\t M & 0.455 & 0.365 & 0.095 & 0.5140\\\\\n",
       "\t M & 0.350 & 0.265 & 0.090 & 0.2255\\\\\n",
       "\t F & 0.530 & 0.420 & 0.135 & 0.6770\\\\\n",
       "\t ⋮ & ⋮ & ⋮ & ⋮ & ⋮\\\\\n",
       "\t M & 0.600 & 0.475 & 0.205 & 1.1760\\\\\n",
       "\t F & 0.625 & 0.485 & 0.150 & 1.0945\\\\\n",
       "\t M & 0.710 & 0.555 & 0.195 & 1.9485\\\\\n",
       "\\end{tabular}\n"
      ],
      "text/markdown": [
       "\n",
       "A tibble: 4177 × 5\n",
       "\n",
       "| sex &lt;fct&gt; | length &lt;dbl&gt; | diameter &lt;dbl&gt; | height &lt;dbl&gt; | weight &lt;dbl&gt; |\n",
       "|---|---|---|---|---|\n",
       "| M | 0.455 | 0.365 | 0.095 | 0.5140 |\n",
       "| M | 0.350 | 0.265 | 0.090 | 0.2255 |\n",
       "| F | 0.530 | 0.420 | 0.135 | 0.6770 |\n",
       "| ⋮ | ⋮ | ⋮ | ⋮ | ⋮ |\n",
       "| M | 0.600 | 0.475 | 0.205 | 1.1760 |\n",
       "| F | 0.625 | 0.485 | 0.150 | 1.0945 |\n",
       "| M | 0.710 | 0.555 | 0.195 | 1.9485 |\n",
       "\n"
      ],
      "text/plain": [
       "     sex length diameter height weight\n",
       "1    M   0.455  0.365    0.095  0.5140\n",
       "2    M   0.350  0.265    0.090  0.2255\n",
       "3    F   0.530  0.420    0.135  0.6770\n",
       "⋮    ⋮   ⋮      ⋮        ⋮      ⋮     \n",
       "4175 M   0.600  0.475    0.205  1.1760\n",
       "4176 F   0.625  0.485    0.150  1.0945\n",
       "4177 M   0.710  0.555    0.195  1.9485"
      ]
     },
     "metadata": {},
     "output_type": "display_data"
    }
   ],
   "source": [
    "# select the cols with our predictors         \n",
    "abalone <- abalone |>\n",
    "    select(sex, length, diameter, height, weight)\n",
    "\n",
    "abalone"
   ]
  },
  {
   "cell_type": "markdown",
   "id": "c72db259-997d-42f6-a0d2-654fd4b9ca9e",
   "metadata": {},
   "source": [
    "**Table 2.1.2** - tibble with our 4 selected predictor variables"
   ]
  },
  {
   "cell_type": "markdown",
   "id": "0b627ea7-e5fa-47e8-b83e-6983c6adebef",
   "metadata": {},
   "source": [
    "- We will then divide our data into $75\\%$ training data and $25\\%$ testing data with respect to `sex`."
   ]
  },
  {
   "cell_type": "code",
   "execution_count": 5,
   "id": "a4af186f-e91a-4733-8140-b9fe11e899aa",
   "metadata": {},
   "outputs": [],
   "source": [
    "## SPLITTING THE DATA\n",
    "set.seed(3000)\n",
    "\n",
    "abalone_split <- initial_split(abalone, prop=0.75, strata=sex)\n",
    "abalone_train <- training(abalone_split)\n",
    "abalone_test <- testing(abalone_split)"
   ]
  },
  {
   "cell_type": "markdown",
   "id": "1e95b98f-73cb-4ed3-bb98-d6d88288d62b",
   "metadata": {},
   "source": [
    "## 2.2 - Methods & Results - Preliminary Data Analysis"
   ]
  },
  {
   "cell_type": "markdown",
   "id": "c711a140-3c35-4a65-bfb7-a9bdc5f2b763",
   "metadata": {},
   "source": [
    "- With our training data established, we can determine the counts of each `sex` factor to get a better idea of the amount of data we are dealing with, and the proportions of each. "
   ]
  },
  {
   "cell_type": "code",
   "execution_count": 6,
   "id": "48bd5568-147b-4706-9ac2-9bee6f35315c",
   "metadata": {},
   "outputs": [
    {
     "data": {
      "text/html": [
       "<table class=\"dataframe\">\n",
       "<caption>A tibble: 3 × 2</caption>\n",
       "<thead>\n",
       "\t<tr><th scope=col>sex</th><th scope=col>count</th></tr>\n",
       "\t<tr><th scope=col>&lt;fct&gt;</th><th scope=col>&lt;int&gt;</th></tr>\n",
       "</thead>\n",
       "<tbody>\n",
       "\t<tr><td>M</td><td>1146</td></tr>\n",
       "\t<tr><td>I</td><td>1006</td></tr>\n",
       "\t<tr><td>F</td><td> 980</td></tr>\n",
       "</tbody>\n",
       "</table>\n"
      ],
      "text/latex": [
       "A tibble: 3 × 2\n",
       "\\begin{tabular}{ll}\n",
       " sex & count\\\\\n",
       " <fct> & <int>\\\\\n",
       "\\hline\n",
       "\t M & 1146\\\\\n",
       "\t I & 1006\\\\\n",
       "\t F &  980\\\\\n",
       "\\end{tabular}\n"
      ],
      "text/markdown": [
       "\n",
       "A tibble: 3 × 2\n",
       "\n",
       "| sex &lt;fct&gt; | count &lt;int&gt; |\n",
       "|---|---|\n",
       "| M | 1146 |\n",
       "| I | 1006 |\n",
       "| F |  980 |\n",
       "\n"
      ],
      "text/plain": [
       "  sex count\n",
       "1 M   1146 \n",
       "2 I   1006 \n",
       "3 F    980 "
      ]
     },
     "metadata": {},
     "output_type": "display_data"
    }
   ],
   "source": [
    "## SUMMARIZING BY COUNT\n",
    "\n",
    "abalone_counts <- abalone_train |>\n",
    "        group_by(sex) |>\n",
    "        summarize(count = n()) |>\n",
    "        arrange(by=desc(count))\n",
    "\n",
    "abalone_counts"
   ]
  },
  {
   "cell_type": "markdown",
   "id": "33d26da9-be04-49a0-8232-634cadd2735a",
   "metadata": {},
   "source": [
    "**Table 2.2.1** - table containing the counts for each level of sex (for the training data)"
   ]
  },
  {
   "cell_type": "markdown",
   "id": "42b494f4-10a9-45bb-a695-d9ab87f38189",
   "metadata": {},
   "source": [
    "- Now using the training data, we can summarize the mean for each factor of length, diameter, height, and weight, putting this into a data frame named `abalone_summarize`."
   ]
  },
  {
   "cell_type": "code",
   "execution_count": 7,
   "id": "7f3dfc6a-2225-4cce-8e1e-50e4160ccf9b",
   "metadata": {
    "tags": []
   },
   "outputs": [
    {
     "data": {
      "text/html": [
       "<table class=\"dataframe\">\n",
       "<caption>A tibble: 3 × 5</caption>\n",
       "<thead>\n",
       "\t<tr><th scope=col>sex</th><th scope=col>mean_length</th><th scope=col>mean_diameter</th><th scope=col>mean_height</th><th scope=col>mean_weight</th></tr>\n",
       "\t<tr><th scope=col>&lt;fct&gt;</th><th scope=col>&lt;dbl&gt;</th><th scope=col>&lt;dbl&gt;</th><th scope=col>&lt;dbl&gt;</th><th scope=col>&lt;dbl&gt;</th></tr>\n",
       "</thead>\n",
       "<tbody>\n",
       "\t<tr><td>F</td><td>0.5793929</td><td>0.4552602</td><td>0.1585102</td><td>1.0492204</td></tr>\n",
       "\t<tr><td>I</td><td>0.4263718</td><td>0.3255219</td><td>0.1076590</td><td>0.4317271</td></tr>\n",
       "\t<tr><td>M</td><td>0.5625829</td><td>0.4402138</td><td>0.1510428</td><td>0.9930345</td></tr>\n",
       "</tbody>\n",
       "</table>\n"
      ],
      "text/latex": [
       "A tibble: 3 × 5\n",
       "\\begin{tabular}{lllll}\n",
       " sex & mean\\_length & mean\\_diameter & mean\\_height & mean\\_weight\\\\\n",
       " <fct> & <dbl> & <dbl> & <dbl> & <dbl>\\\\\n",
       "\\hline\n",
       "\t F & 0.5793929 & 0.4552602 & 0.1585102 & 1.0492204\\\\\n",
       "\t I & 0.4263718 & 0.3255219 & 0.1076590 & 0.4317271\\\\\n",
       "\t M & 0.5625829 & 0.4402138 & 0.1510428 & 0.9930345\\\\\n",
       "\\end{tabular}\n"
      ],
      "text/markdown": [
       "\n",
       "A tibble: 3 × 5\n",
       "\n",
       "| sex &lt;fct&gt; | mean_length &lt;dbl&gt; | mean_diameter &lt;dbl&gt; | mean_height &lt;dbl&gt; | mean_weight &lt;dbl&gt; |\n",
       "|---|---|---|---|---|\n",
       "| F | 0.5793929 | 0.4552602 | 0.1585102 | 1.0492204 |\n",
       "| I | 0.4263718 | 0.3255219 | 0.1076590 | 0.4317271 |\n",
       "| M | 0.5625829 | 0.4402138 | 0.1510428 | 0.9930345 |\n",
       "\n"
      ],
      "text/plain": [
       "  sex mean_length mean_diameter mean_height mean_weight\n",
       "1 F   0.5793929   0.4552602     0.1585102   1.0492204  \n",
       "2 I   0.4263718   0.3255219     0.1076590   0.4317271  \n",
       "3 M   0.5625829   0.4402138     0.1510428   0.9930345  "
      ]
     },
     "metadata": {},
     "output_type": "display_data"
    }
   ],
   "source": [
    "## GRAPHING: HEIGHT VS. WEIGHT BY SEX\n",
    "\n",
    "options(repr.plot.width = 8, repr.plot.height = 4)\n",
    "\n",
    "abalone_summarize <- abalone_train |>\n",
    "        group_by(sex) |>\n",
    "        summarize(\n",
    "            mean_length = mean(length),\n",
    "            mean_diameter = mean(diameter),\n",
    "            mean_height = mean(height),\n",
    "            mean_weight = mean(weight)\n",
    "        )\n",
    "\n",
    "abalone_summarize"
   ]
  },
  {
   "cell_type": "markdown",
   "id": "5275c3bf-10df-4a2e-acc8-af606e90a310",
   "metadata": {},
   "source": [
    "**Table 2.2.2** - table involving summarized means for each level of sex and predictor variable"
   ]
  },
  {
   "cell_type": "markdown",
   "id": "806cfbc3-f5e4-4cf6-903d-acb0c2f2f711",
   "metadata": {},
   "source": [
    "- With those metrics established, we can create a bar graph for each factor, comparing the 3 genders of female, male, and infant. Let's graph the `mean_length`, for example. We will also want to reorder our $y$-axis from largest to smallest mean length:"
   ]
  },
  {
   "cell_type": "code",
   "execution_count": 8,
   "id": "2199f6f4-80b0-49cb-84f2-5bb1c3c0b997",
   "metadata": {},
   "outputs": [
    {
     "data": {
      "image/png": "[encoded data removed]",
      "text/plain": [
       "plot without title"
      ]
     },
     "metadata": {
      "image/png": {
       "height": 240,
       "width": 600
      }
     },
     "output_type": "display_data"
    }
   ],
   "source": [
    "options(repr.plot.width = 10, repr.plot.height = 4)\n",
    "\n",
    "abalone_graph_length <- abalone_summarize |>\n",
    "        ggplot(aes(x=mean_length, \n",
    "                   y=fct_reorder(sex, mean_length),\n",
    "                   fill=sex)) +\n",
    "        geom_bar(stat=\"identity\") +\n",
    "        labs(x = \"Mean Length (mm)\", y = \"Sex (infant/male/female)\", \n",
    "            title=\"Figure 2.2.1 - Abalone Mean Length by Sex\", fill=\"Effective Gender\") +\n",
    "        scale_fill_discrete(labels=c(\"Female\", \"Infant\", \"Male\")) +\n",
    "        theme(text = element_text(size = 12))\n",
    "\n",
    "abalone_graph_length"
   ]
  },
  {
   "cell_type": "markdown",
   "id": "5fd85f4a-15d7-4952-94c5-0f1c3a7230d4",
   "metadata": {},
   "source": [
    "**Figure 2.2.1** - Bar graph observing the mean abalone length for each level of sex"
   ]
  },
  {
   "cell_type": "markdown",
   "id": "c944258e-c003-4f3e-a5b7-4991c6f69d72",
   "metadata": {},
   "source": [
    "- We can create similar graphs for our other factors of `diameter`, `height`, and `weight`:"
   ]
  },
  {
   "cell_type": "code",
   "execution_count": 9,
   "id": "0603cf24-c2e6-4484-97f0-0ed569f5c665",
   "metadata": {},
   "outputs": [],
   "source": [
    "options(repr.plot.width = 10, repr.plot.height = 4)\n",
    "\n",
    "abalone_graph_diameter <- abalone_summarize |>\n",
    "        ggplot(aes(x=mean_diameter, \n",
    "                   y=fct_reorder(sex, mean_diameter),\n",
    "                   fill=sex)) +\n",
    "        geom_bar(stat=\"identity\") +\n",
    "        labs(x = \"Mean Diameter (mm)\", y = \"Sex (infant/male/female)\", \n",
    "            title=\"Figure 2.2.2 - Abalone Mean Diameter by Sex\", fill=\"Effective Gender\") +\n",
    "        scale_fill_discrete(labels=c(\"Female\", \"Infant\", \"Male\")) +\n",
    "        theme(text = element_text(size = 12))\n",
    "\n",
    "abalone_graph_height <- abalone_summarize |>\n",
    "        ggplot(aes(x=mean_height, \n",
    "                   y=fct_reorder(sex, mean_height),\n",
    "                   fill=sex)) +\n",
    "        geom_bar(stat=\"identity\") +\n",
    "        labs(x = \"Mean Height (mm)\", y = \"Sex (infant/male/female)\", \n",
    "            title=\"Figure 2.2.3 - Abalone Mean Height by Sex\", fill=\"Effective Gender\") +\n",
    "        scale_fill_discrete(labels=c(\"Female\", \"Infant\", \"Male\")) +\n",
    "        theme(text = element_text(size = 12))\n",
    "\n",
    "abalone_graph_weight <- abalone_summarize |>\n",
    "        ggplot(aes(x=mean_weight, \n",
    "                   y=fct_reorder(sex, mean_weight),\n",
    "                   fill=sex)) +\n",
    "        geom_bar(stat=\"identity\") +\n",
    "        labs(x = \"Mean Weight (grams)\", y = \"Sex (infant/male/female)\", \n",
    "            title=\"Figure 2.2.4 - Abalone Mean Weight by Sex\", fill=\"Effective Gender\") +\n",
    "        scale_fill_discrete(labels=c(\"Female\", \"Infant\", \"Male\")) +\n",
    "        theme(text = element_text(size = 12))"
   ]
  },
  {
   "cell_type": "markdown",
   "id": "538fcb01-4798-4eb6-a924-87cf9f9a9e39",
   "metadata": {},
   "source": [
    "* We can observe our visualizations:"
   ]
  },
  {
   "cell_type": "code",
   "execution_count": 10,
   "id": "d2b6893b-cbcb-4f1a-9a96-6e58342f3324",
   "metadata": {},
   "outputs": [
    {
     "data": {
      "image/png": "[encoded data removed]",
      "text/plain": [
       "plot without title"
      ]
     },
     "metadata": {
      "image/png": {
       "height": 240,
       "width": 600
      }
     },
     "output_type": "display_data"
    }
   ],
   "source": [
    "abalone_graph_diameter"
   ]
  },
  {
   "cell_type": "markdown",
   "id": "5081ac96-8d4e-4ea4-853f-5ad10ba964f4",
   "metadata": {},
   "source": [
    "**Figure 2.2.2** - Bar graph observing the mean abalone diameter for each level of sex"
   ]
  },
  {
   "cell_type": "code",
   "execution_count": 11,
   "id": "e8482a07-22a2-4d5c-8928-fbffa9e33974",
   "metadata": {},
   "outputs": [
    {
     "data": {
      "image/png": "[encoded data removed]",
      "text/plain": [
       "plot without title"
      ]
     },
     "metadata": {
      "image/png": {
       "height": 240,
       "width": 600
      }
     },
     "output_type": "display_data"
    }
   ],
   "source": [
    "abalone_graph_height"
   ]
  },
  {
   "cell_type": "markdown",
   "id": "f88d571f-cc65-474a-9814-0050a5529ad9",
   "metadata": {},
   "source": [
    "**Figure 2.2.3** - Bar graph observing the mean abalone height for each level of sex"
   ]
  },
  {
   "cell_type": "code",
   "execution_count": 12,
   "id": "ad3a6abe-b6a6-4a91-be5e-ea1f993f603b",
   "metadata": {},
   "outputs": [
    {
     "data": {
      "image/png": "[encoded data removed]",
      "text/plain": [
       "plot without title"
      ]
     },
     "metadata": {
      "image/png": {
       "height": 240,
       "width": 600
      }
     },
     "output_type": "display_data"
    }
   ],
   "source": [
    "abalone_graph_weight"
   ]
  },
  {
   "cell_type": "markdown",
   "id": "54ecb994-bf81-4bac-8b4f-98aa4669404b",
   "metadata": {},
   "source": [
    "**Figure 2.2.4** - Bar graph observing the mean abalone weight for each level of sex"
   ]
  },
  {
   "cell_type": "markdown",
   "id": "a38fa716-f599-4804-a7a5-5116881c4317",
   "metadata": {},
   "source": [
    "**What does this tell us about our the relationships between variables?**\n",
    "\n",
    "- There is no effective relationship between the length, width, diameter, and weight variables in identifying whether the abalone is a female or a male. Based on the values in Table 1, there is approximately a 0.1mm difference between the length of female and male abalones. Infants are smaller in all variables compared to female or male abalones.\n",
    "\n",
    "    - So relating this to our question, we can see that our model may struggle to maintain a fair accuracy considering that the observations between female and male abalones are quite similar.\n",
    "\n",
    "- We can note, however, that our initial analysis here is considering the *means* per factor, which are susceptible to being impacted by outliers. So the full data may demonstrate different results."
   ]
  },
  {
   "cell_type": "markdown",
   "id": "c5c1b46a-859a-4208-a375-ef4f9c760085",
   "metadata": {
    "tags": []
   },
   "source": [
    "## 2.3 - Methods & Results - Classification"
   ]
  },
  {
   "cell_type": "markdown",
   "id": "5982b709-265b-4662-8fb4-36b66cbad5e2",
   "metadata": {},
   "source": [
    "*Our data analysis will be performed using KNN classification. The steps we take are explored below:*"
   ]
  },
  {
   "cell_type": "markdown",
   "id": "568b709f-b33b-463f-b3dd-8131f7734dc7",
   "metadata": {},
   "source": [
    "* Before performing our classification, we should set the seed. This is also included in future relevant cells to ensure consistency is maintained. "
   ]
  },
  {
   "cell_type": "code",
   "execution_count": 13,
   "id": "347b8f19-3d78-475b-8a11-33d5153c126f",
   "metadata": {},
   "outputs": [],
   "source": [
    "set.seed(3000)"
   ]
  },
  {
   "cell_type": "markdown",
   "id": "7e4196b9-7b39-497e-8c84-0125087d51d2",
   "metadata": {},
   "source": [
    "* Note that to beset build our model we should `tune` for the optimal value of $k$.\n",
    "* We will start by intializing a `recipe`, predicting sex based on all 4 predictors and standardizing.\n",
    "* Next we can develop our specifications, setting neighbours to `tune()`."
   ]
  },
  {
   "cell_type": "code",
   "execution_count": 14,
   "id": "aece1b1c-e871-4e2c-80b8-3106ccd01ea3",
   "metadata": {},
   "outputs": [],
   "source": [
    "set.seed(3000)\n",
    "\n",
    "abalone_recipe <- recipe(sex ~ length + diameter + height + weight, data = abalone_train) |> \n",
    "    step_scale(all_predictors()) |> \n",
    "    step_center(all_predictors()) \n",
    "\n",
    "knn_spec <- nearest_neighbor(weight_func = \"rectangular\", neighbors = tune()) |> \n",
    "    set_engine(\"kknn\") |> \n",
    "    set_mode(\"classification\") "
   ]
  },
  {
   "cell_type": "markdown",
   "id": "377a5527-768d-4d3d-b40b-fe64dbabd3f7",
   "metadata": {},
   "source": [
    "* We will perform 10-fold cross validation for our data, setting the strata around variable `sex`.\n",
    "* Our $k$ options are stored in `k_vals` as a tibble below:"
   ]
  },
  {
   "cell_type": "code",
   "execution_count": 15,
   "id": "db330206-fd35-4cdb-b5cf-726a6d24b970",
   "metadata": {},
   "outputs": [],
   "source": [
    "set.seed(3000)\n",
    "\n",
    "abalone_vfold <- vfold_cv(abalone_train, v = 10, strata = sex) \n",
    "\n",
    "# k_vals <- tibble(neighbors = seq(from = 38, to = 42, by = 1)) !!! TODO"
   ]
  },
  {
   "cell_type": "markdown",
   "id": "c1433ef7-bee7-4b9d-a7e4-23e081a14a22",
   "metadata": {},
   "source": [
    "* We can `tune_grid` by placing the data we established above into a workflow, assigning our results to variable `knn_results`\n",
    "* Once established, we can form a table of accuracies:"
   ]
  },
  {
   "cell_type": "code",
   "execution_count": 16,
   "id": "f4fd5b38-cf2c-4c3b-9d73-f541de57f2bd",
   "metadata": {},
   "outputs": [],
   "source": [
    "# set.seed(3000)\n",
    "#\n",
    "# knn_results <- workflow() |> \n",
    "#     add_recipe(abalone_recipe) |> \n",
    "#     add_model(knn_spec) |> \n",
    "#     tune_grid(resamples = abalone_vfold, grid = k_vals) |> \n",
    "#     collect_metrics()\n",
    "\n",
    "# accuracies <- knn_results |> \n",
    "#     filter(.metric == \"accuracy\") |>\n",
    "#     arrange(by = desc(mean))\n",
    "\n",
    "# accuracies"
   ]
  },
  {
   "cell_type": "markdown",
   "id": "29962945-37d2-41f3-a2d1-853b23d1f6fd",
   "metadata": {},
   "source": [
    "* Since the tibble is already sorted, we can observe the optimal value of $k$ we should use against the testing set.\n",
    "* Additionally, we can create a graph of our options of $k$ to affirm we have chosen the correct value."
   ]
  },
  {
   "cell_type": "code",
   "execution_count": 17,
   "id": "a53343fa-760f-4153-b54d-a43629379745",
   "metadata": {},
   "outputs": [],
   "source": [
    "# options(repr.plot.width = 6, repr.plot.height = 4)\n",
    "\n",
    "# accuracy_vs_k <- ggplot(accuracies, aes(x = neighbors, y = mean)) +\n",
    "#   geom_point() +\n",
    "#   geom_line()\n",
    "\n",
    "# accuracy_vs_k"
   ]
  },
  {
   "cell_type": "markdown",
   "id": "3fb1bb66-05d3-4a1e-9d65-15ddc3e6905b",
   "metadata": {},
   "source": [
    "*With our optimal value of $k$ discovered, we can now run our model against the testing data with the optimal $k$.*\n",
    "- We can reuse our `recipe` (although it is shown again here to remind the reader), and we are to create a new `spec` with the correct value of $k$.\n",
    "- With those established, we can put it into a `workflow` and make our predictions."
   ]
  },
  {
   "cell_type": "code",
   "execution_count": 18,
   "id": "6cfd6e15-02a9-49c8-b542-256d07dfec8c",
   "metadata": {},
   "outputs": [],
   "source": [
    "set.seed(3000)\n",
    "\n",
    "abalone_recipe <- recipe(sex ~ length + diameter + height + weight, data = abalone_train) |> \n",
    "    step_scale(all_predictors()) |> \n",
    "    step_center(all_predictors())\n",
    "\n",
    "tuned_spec <- nearest_neighbor(weight_func = \"rectangular\", neighbors = 40) |> \n",
    "    set_engine(\"kknn\") |> \n",
    "    set_mode(\"classification\") \n",
    "\n",
    "tuned_fit <- workflow() |> \n",
    "    add_recipe(abalone_recipe) |> \n",
    "    add_model(tuned_spec) |>\n",
    "    fit(data = abalone_train)\n",
    "\n",
    "abalone_predictions <- predict(tuned_fit, abalone_test) |> \n",
    "    bind_cols(abalone_test)"
   ]
  },
  {
   "cell_type": "markdown",
   "id": "ebeadceb-deb9-4657-b8b2-4672960dba99",
   "metadata": {},
   "source": [
    "- Using those results, we can manipulate the resulting dataframe, `abalone_predictions`, and `pull()` to conclude our accuracy:"
   ]
  },
  {
   "cell_type": "code",
   "execution_count": 19,
   "id": "b984b41d-1ae4-448f-8b1d-d4a8bbb58aa5",
   "metadata": {},
   "outputs": [
    {
     "data": {
      "text/html": [
       "0.547368421052632"
      ],
      "text/latex": [
       "0.547368421052632"
      ],
      "text/markdown": [
       "0.547368421052632"
      ],
      "text/plain": [
       "[1] 0.5473684"
      ]
     },
     "metadata": {},
     "output_type": "display_data"
    }
   ],
   "source": [
    "test_accuracy <- abalone_predictions |> \n",
    "    metrics(truth = sex, estimate = .pred_class) |> \n",
    "    filter(.metric == \"accuracy\") |>\n",
    "    select(.estimate) |>\n",
    "    pull()\n",
    "\n",
    "test_accuracy"
   ]
  },
  {
   "cell_type": "markdown",
   "id": "f98454bc-3fae-4b5a-8602-79b957beb908",
   "metadata": {},
   "source": [
    "**What does this mean?**\n",
    "\n",
    "* Our  test accuracy of $54.7\\%$ was lower than our expected accuracy of around $80\\%$. This accuracy could be due to using the wrong method to classify our abalone since KNN classification takes a long time to load large data sets such as our abalone data set.\n",
    "* Variables that are related to each other may produce similar results. For example, *in our case*, the factors of `diameter` and `weight` may be related: the larger in radius of the abalone, the more volume it has to store its organic material. The amount of organic material in a given abalone may influence its overall weight."
   ]
  },
  {
   "cell_type": "markdown",
   "id": "6d79446f-35de-4e60-8011-f5ae7840c09a",
   "metadata": {},
   "source": [
    "## 2.4 - Method & Results - Visualization"
   ]
  },
  {
   "cell_type": "markdown",
   "id": "d634792f-9006-4726-abb8-99ec25529ff4",
   "metadata": {},
   "source": [
    "*In this section, we will perform two forms of visualization - **histograms** and **bar graphs**.*\n",
    "\n",
    "*First are the histograms:*"
   ]
  },
  {
   "cell_type": "markdown",
   "id": "2e0ae9b4-772e-4493-b522-7bc0891dc72d",
   "metadata": {},
   "source": [
    "* We will first aim to explore just how much each factor differs by sex. We can first make a histogram for the factor of `length`:"
   ]
  },
  {
   "cell_type": "code",
   "execution_count": 20,
   "id": "5a9100f6-e2b5-440e-86c3-6e9879aa6f67",
   "metadata": {
    "tags": []
   },
   "outputs": [
    {
     "data": {
      "image/png": "[encoded data removed]",
      "text/plain": [
       "plot without title"
      ]
     },
     "metadata": {
      "image/png": {
       "height": 360,
       "width": 480
      }
     },
     "output_type": "display_data"
    }
   ],
   "source": [
    "options(repr.plot.width = 8, repr.plot.height = 6)\n",
    "\n",
    "length_hist <- abalone_test |>\n",
    "    ggplot(aes(x = length, fill = sex)) +\n",
    "    geom_histogram(position=\"identity\", alpha=0.4, bins=30) +\n",
    "    labs(x=\"Length (mm)\", y=\"Frequency\", \n",
    "        title=\"Figure 2.4.1 - Histogram of Length\", fill=\"Effective Gender\") +\n",
    "    scale_fill_discrete(labels=c(\"Female\", \"Infant\", \"Male\"))\n",
    "\n",
    "length_hist"
   ]
  },
  {
   "cell_type": "markdown",
   "id": "2608188e-1e74-47bb-96f9-dc94426ad7b5",
   "metadata": {},
   "source": [
    "**Figure 2.4.1** - Histogram demonstrating the counts for values of length, coloured by effective gender."
   ]
  },
  {
   "cell_type": "markdown",
   "id": "02a14184-707e-42c3-af28-65d7de0931d4",
   "metadata": {},
   "source": [
    "* We observe that the female and male categories (red and blue, respectively) appear to have quite a significant amount of overlap, which would suggest that, for the factor of length, it may be difficult for our algorithm to determine which is which.\n",
    "* Conversely, abalone recorded as infants (in green) appear to have their own unique peak, meaning that using KNN methods are more likely to produce conclusive results."
   ]
  },
  {
   "cell_type": "markdown",
   "id": "1059bd19-5015-44ce-8016-0b3c003d0791",
   "metadata": {},
   "source": [
    "* We can do the same for our other factors of `diameter`, `height`, and `weight`. All show similar results and we will show the histogram for `weight` here:"
   ]
  },
  {
   "cell_type": "code",
   "execution_count": 21,
   "id": "57eae7a4-78cf-40a8-b30d-1b7469b13d90",
   "metadata": {},
   "outputs": [
    {
     "data": {
      "image/png": "[encoded data removed]",
      "text/plain": [
       "plot without title"
      ]
     },
     "metadata": {
      "image/png": {
       "height": 360,
       "width": 480
      }
     },
     "output_type": "display_data"
    }
   ],
   "source": [
    "options(repr.plot.width = 8, repr.plot.height = 6)\n",
    "\n",
    "weight_hist <- abalone_test |>\n",
    "    ggplot(aes(x = weight, fill = sex)) +\n",
    "    geom_histogram(position=\"identity\", alpha=0.4, bins=30) +\n",
    "    labs(x=\"Weight (grams)\", y=\"Frequency\", \n",
    "         title=\"Figure 2.4.2 - Histogram of Weight\", fill=\"Effective Gender\") +\n",
    "    scale_fill_discrete(labels=c(\"Female\", \"Infant\", \"Male\"))\n",
    "\n",
    "weight_hist"
   ]
  },
  {
   "cell_type": "markdown",
   "id": "f2ca293e-9005-4a2a-bab3-3521caaba7c1",
   "metadata": {},
   "source": [
    "**Figure 2.4.2** - Histogram demonstrating the frequency of various weight measurements, coloured by effective gender."
   ]
  },
  {
   "cell_type": "markdown",
   "id": "22c1d299-6a50-4cc5-a6a4-df6d6b61c83e",
   "metadata": {},
   "source": [
    "**What might this signal regarding the accuracy of our algorithm?**\n",
    "\n",
    "* These histograms appear to show a similar pattern – a high overlap between male and female categories with the infant categories having their unique shape. This can be interpreted as a fair initial explanation for why our test accuracy is much lower than expected: the model can likely predict infants with sufficient accuracy but struggles with accuracy when differentiating between female and male abalones. \n",
    "* All four histograms demonstrated the principles outlined above. Only two are shown here for the sake of concision."
   ]
  },
  {
   "cell_type": "markdown",
   "id": "5e7a0562-4150-4b54-817a-5d0579cee42d",
   "metadata": {},
   "source": [
    "*We can now perform further exploration through the use of bar graphs:*"
   ]
  },
  {
   "cell_type": "markdown",
   "id": "24eea5e1-efd2-427f-9877-68a3c544dc41",
   "metadata": {},
   "source": [
    "* We can visualize how well each level of gender was predicted. This ties into our preliminary data analysis and histograms, where we suggested that the model would struggle with female/male predictions but be fairly accurate with predictions where the true value was of type `infant`.\n",
    "* First we will create a tibble which obtains the number of correct guesses by gender:"
   ]
  },
  {
   "cell_type": "code",
   "execution_count": 22,
   "id": "b9162a8f-42a7-4d50-9924-319cc7359313",
   "metadata": {},
   "outputs": [
    {
     "data": {
      "text/html": [
       "<table class=\"dataframe\">\n",
       "<caption>A tibble: 3 × 2</caption>\n",
       "<thead>\n",
       "\t<tr><th scope=col>sex</th><th scope=col>correct</th></tr>\n",
       "\t<tr><th scope=col>&lt;fct&gt;</th><th scope=col>&lt;int&gt;</th></tr>\n",
       "</thead>\n",
       "<tbody>\n",
       "\t<tr><td>F</td><td>103</td></tr>\n",
       "\t<tr><td>I</td><td>283</td></tr>\n",
       "\t<tr><td>M</td><td>186</td></tr>\n",
       "</tbody>\n",
       "</table>\n"
      ],
      "text/latex": [
       "A tibble: 3 × 2\n",
       "\\begin{tabular}{ll}\n",
       " sex & correct\\\\\n",
       " <fct> & <int>\\\\\n",
       "\\hline\n",
       "\t F & 103\\\\\n",
       "\t I & 283\\\\\n",
       "\t M & 186\\\\\n",
       "\\end{tabular}\n"
      ],
      "text/markdown": [
       "\n",
       "A tibble: 3 × 2\n",
       "\n",
       "| sex &lt;fct&gt; | correct &lt;int&gt; |\n",
       "|---|---|\n",
       "| F | 103 |\n",
       "| I | 283 |\n",
       "| M | 186 |\n",
       "\n"
      ],
      "text/plain": [
       "  sex correct\n",
       "1 F   103    \n",
       "2 I   283    \n",
       "3 M   186    "
      ]
     },
     "metadata": {},
     "output_type": "display_data"
    }
   ],
   "source": [
    "set.seed(3000)\n",
    "\n",
    "correct_count_by_gender <- abalone_predictions |>\n",
    "    mutate(correct = (.pred_class == sex)) |>\n",
    "    group_by(sex) |>\n",
    "    add_count() |>\n",
    "    filter(correct == TRUE) |>\n",
    "    summarize(correct = n())\n",
    "\n",
    "correct_count_by_gender"
   ]
  },
  {
   "cell_type": "markdown",
   "id": "0f7b21d3-2f82-4e89-9ed4-4d7187f795fc",
   "metadata": {},
   "source": [
    "**Table 2.4.1** - tibble showing the number of correct predictions made for each level of sex"
   ]
  },
  {
   "cell_type": "markdown",
   "id": "aaf3dd92-6eae-4c81-b888-884972207a52",
   "metadata": {},
   "source": [
    "* We will then create a separate tibble which will count the total number of predictions by gender below.\n",
    "* The total number of predictions is stored in column `n`."
   ]
  },
  {
   "cell_type": "code",
   "execution_count": 23,
   "id": "f66877a0-0345-4613-b311-39edc8ab8318",
   "metadata": {},
   "outputs": [
    {
     "data": {
      "text/html": [
       "<table class=\"dataframe\">\n",
       "<caption>A grouped_df: 3 × 2</caption>\n",
       "<thead>\n",
       "\t<tr><th scope=col>total_sex</th><th scope=col>n</th></tr>\n",
       "\t<tr><th scope=col>&lt;fct&gt;</th><th scope=col>&lt;int&gt;</th></tr>\n",
       "</thead>\n",
       "<tbody>\n",
       "\t<tr><td>F</td><td>327</td></tr>\n",
       "\t<tr><td>I</td><td>336</td></tr>\n",
       "\t<tr><td>M</td><td>382</td></tr>\n",
       "</tbody>\n",
       "</table>\n"
      ],
      "text/latex": [
       "A grouped\\_df: 3 × 2\n",
       "\\begin{tabular}{ll}\n",
       " total\\_sex & n\\\\\n",
       " <fct> & <int>\\\\\n",
       "\\hline\n",
       "\t F & 327\\\\\n",
       "\t I & 336\\\\\n",
       "\t M & 382\\\\\n",
       "\\end{tabular}\n"
      ],
      "text/markdown": [
       "\n",
       "A grouped_df: 3 × 2\n",
       "\n",
       "| total_sex &lt;fct&gt; | n &lt;int&gt; |\n",
       "|---|---|\n",
       "| F | 327 |\n",
       "| I | 336 |\n",
       "| M | 382 |\n",
       "\n"
      ],
      "text/plain": [
       "  total_sex n  \n",
       "1 F         327\n",
       "2 I         336\n",
       "3 M         382"
      ]
     },
     "metadata": {},
     "output_type": "display_data"
    }
   ],
   "source": [
    "prediction_count_by_gender <- abalone_predictions |>\n",
    "    mutate(total_sex = sex) |>\n",
    "    select(-sex) |>\n",
    "    group_by(total_sex) |>\n",
    "    count()\n",
    "\n",
    "prediction_count_by_gender"
   ]
  },
  {
   "cell_type": "markdown",
   "id": "1a6ffdf2-93b4-40cf-bc75-0804c782bdc4",
   "metadata": {},
   "source": [
    "**Table 2.4.2** - tibble showing the total number of predictions made for each level of sex"
   ]
  },
  {
   "cell_type": "markdown",
   "id": "177bad96-19af-4c5d-8855-8a4982dd22e9",
   "metadata": {},
   "source": [
    "* Both tibbles can then be combined and tidied:"
   ]
  },
  {
   "cell_type": "code",
   "execution_count": 24,
   "id": "66b4bf98-dc5e-496d-b584-fca9f6c14dba",
   "metadata": {},
   "outputs": [
    {
     "data": {
      "text/html": [
       "<table class=\"dataframe\">\n",
       "<caption>A tibble: 3 × 4</caption>\n",
       "<thead>\n",
       "\t<tr><th scope=col>sex</th><th scope=col>correct</th><th scope=col>n</th><th scope=col>accuracy</th></tr>\n",
       "\t<tr><th scope=col>&lt;fct&gt;</th><th scope=col>&lt;int&gt;</th><th scope=col>&lt;int&gt;</th><th scope=col>&lt;dbl&gt;</th></tr>\n",
       "</thead>\n",
       "<tbody>\n",
       "\t<tr><td>F</td><td>103</td><td>327</td><td>31.49847</td></tr>\n",
       "\t<tr><td>I</td><td>283</td><td>336</td><td>84.22619</td></tr>\n",
       "\t<tr><td>M</td><td>186</td><td>382</td><td>48.69110</td></tr>\n",
       "</tbody>\n",
       "</table>\n"
      ],
      "text/latex": [
       "A tibble: 3 × 4\n",
       "\\begin{tabular}{llll}\n",
       " sex & correct & n & accuracy\\\\\n",
       " <fct> & <int> & <int> & <dbl>\\\\\n",
       "\\hline\n",
       "\t F & 103 & 327 & 31.49847\\\\\n",
       "\t I & 283 & 336 & 84.22619\\\\\n",
       "\t M & 186 & 382 & 48.69110\\\\\n",
       "\\end{tabular}\n"
      ],
      "text/markdown": [
       "\n",
       "A tibble: 3 × 4\n",
       "\n",
       "| sex &lt;fct&gt; | correct &lt;int&gt; | n &lt;int&gt; | accuracy &lt;dbl&gt; |\n",
       "|---|---|---|---|\n",
       "| F | 103 | 327 | 31.49847 |\n",
       "| I | 283 | 336 | 84.22619 |\n",
       "| M | 186 | 382 | 48.69110 |\n",
       "\n"
      ],
      "text/plain": [
       "  sex correct n   accuracy\n",
       "1 F   103     327 31.49847\n",
       "2 I   283     336 84.22619\n",
       "3 M   186     382 48.69110"
      ]
     },
     "metadata": {},
     "output_type": "display_data"
    }
   ],
   "source": [
    "accuracy_by_gender <- bind_cols(correct_count_by_gender, prediction_count_by_gender) |>\n",
    "    select(sex, correct, n) |>\n",
    "    mutate(accuracy = (correct/n)*100)\n",
    "\n",
    "accuracy_by_gender"
   ]
  },
  {
   "cell_type": "markdown",
   "id": "ce7a777b-1d60-4b41-9dc0-455096fcb943",
   "metadata": {},
   "source": [
    "**Table 2.4.3** - table which shows the number of correct guesses, total number of guesses, and accuracy (expressed as a percentage)"
   ]
  },
  {
   "cell_type": "markdown",
   "id": "47313f07-037b-4dc9-85dc-8639b851ce49",
   "metadata": {},
   "source": [
    "* We can visualize this to better tie into our initial question:\n",
    "\n",
    "*Can we accurately predict the effective gender of a given abalone using factors of length, diameter, height, and weight?*"
   ]
  },
  {
   "cell_type": "code",
   "execution_count": 25,
   "id": "5d23acb4-d578-4985-9cbb-d46259d5c85f",
   "metadata": {},
   "outputs": [
    {
     "data": {
      "image/png": "[encoded data removed]",
      "text/plain": [
       "plot without title"
      ]
     },
     "metadata": {
      "image/png": {
       "height": 420,
       "width": 480
      }
     },
     "output_type": "display_data"
    }
   ],
   "source": [
    "options(repr.plot.width = 8, repr.plot.height = 7)\n",
    "\n",
    "accuracy_by_gender_plot <- accuracy_by_gender |>\n",
    "    ggplot(aes(x=fct_reorder(sex, accuracy, .desc=TRUE), y=accuracy, fill=sex)) +\n",
    "    geom_bar(stat=\"identity\") +\n",
    "    labs(x=\"Sex (infant/male/female)\", y=\"Accuracy (%)\", \n",
    "         title=\"Figure 2.4.3 - Plot of Prediction Accuracy By Effective Gender\",\n",
    "         fill=\"Effective Gender\") +\n",
    "    scale_fill_discrete(labels=c(\"Female\", \"Infant\", \"Male\")) +\n",
    "    scale_y_continuous(breaks = seq(0,100, by=10))\n",
    "\n",
    "accuracy_by_gender_plot"
   ]
  },
  {
   "cell_type": "markdown",
   "id": "0260e410-b856-4b09-8801-d2fcdffca16c",
   "metadata": {},
   "source": [
    "**Figure 2.4.3** - Bar graph visualizing the prediction accuracy for each level of sex"
   ]
  },
  {
   "cell_type": "markdown",
   "id": "5078fc9d-75cf-40f9-83af-967f14dffb55",
   "metadata": {},
   "source": [
    "* The answer, then, to our question would depend on the gender being considered: the model can predict infants with sufficient accuracy $(80\\%+)$, but will struggle when predicting between female and male abalones. We will explore this further in the discussion section."
   ]
  },
  {
   "cell_type": "markdown",
   "id": "601f8e9b-68ab-4b1b-a52d-506cb5809db4",
   "metadata": {},
   "source": [
    "## 3 - Discussion\n",
    "\n",
    "**What did we expect to find?**\n",
    "* The gender category of new abalones based on training data given factors of weight, length, height, and diameter.\n",
    "    * Specifically, the accuracy of our classifier when running KNN classification on our testing data.\n",
    "\n",
    "\n",
    "**What did we find?**\n",
    "* Based on the analysis of the data and the accuracy of our model, we conclude that the four factors we chose are not a good predictors of an abalone’s gender category.\n",
    "* Due to the nature of our data, KNN modeling is not a reliable method of predicting the gender of an abalone.\n",
    "    * According to our KNN classification accuracy assessment the model is fairly reliable in predicting whether an abalone is an infant.\n",
    "    * However it was not reliable in predicting whether a non-infant abalone is a male or a female.\n",
    "\n",
    "**Is this what we expected to find?**\n",
    "* This is not what we expected to find, we were expecting a much higher accuracy statistic when using our model against the testing data.\n",
    "\n",
    "**What impact could such findings have?**\n",
    "* Encourage the search for a better method of predicting the gender of abalones\n",
    "* More efficiently classify new abalones only using their dimension data (diameter, weight, etc.) instead of having to analyze their organs.\n",
    "\n",
    "\n",
    "**What future questions could this lead to?**\n",
    "* Best location/place to find greatest the population of a specific gender of abalone?\n",
    "* What are the characteristics of abalones tagged expensive (what are the most significant metrics merchants use to price the abalones)?"
   ]
  },
  {
   "cell_type": "markdown",
   "id": "6ac1b422-65ee-4123-afb8-5cf83ba95a87",
   "metadata": {},
   "source": [
    "## 4. References\n",
    "\n",
    "Anderson, Genny. “Abalone Reproduction and Growth.” Abalone: Reproduction and Growth, 27 Oct. 2003, https://www.marinebio.net/marinescience/06future/abrepro.html.\n",
    "\n",
    "Chernick, Micheal R. “Low Classification Accuracy, What to Do next?” Cross Validated, Stack Exchange, 28 Sept. 2012, https://stats.stackexchange.com/questions/38218/low-classification-accuracy-what-to-do-next. \n",
    "\n",
    "Greg Lutz, C. “Abalone.” Agricultural Marketing Resource Center, Apr. 2022, https://www.agmrc.org/commodities-products/aquaculture/aquaculture-non-fish-species/abalone.  \n",
    "\n",
    "Newman D, Hettich S, Blake C, Merz C (1998). “UCI Repository of machine learning databases.” http://www.ics.uci.edu/~mlearn/MLRepository.html. "
   ]
  }
 ],
 "metadata": {
  "kernelspec": {
   "display_name": "R",
   "language": "R",
   "name": "ir"
  },
  "language_info": {
   "codemirror_mode": "r",
   "file_extension": ".r",
   "mimetype": "text/x-r-source",
   "name": "R",
   "pygments_lexer": "r",
   "version": "4.1.3"
  }
 },
 "nbformat": 4,
 "nbformat_minor": 5
}
