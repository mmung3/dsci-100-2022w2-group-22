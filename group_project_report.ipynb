{
 "cells": [
  {
   "cell_type": "markdown",
   "id": "92f9a5c2-74b7-481f-b5ac-e49d9684861c",
   "metadata": {},
   "source": [
    "# Abalone: Oceans Phenomenon\n",
    "\n",
    "*DSCI 100 006 2022W2 - Group Project Proposal - Group 22*\n",
    "\n",
    "### Introduction\n",
    "\n",
    "**Provide some relevant background information on the topic so that someone unfamiliar with it will be prepared to understand the rest of your proposal**\n",
    "- Abalones are large sea snails found in coastal salt water of New Zealand, Australia, South Africa, Japan and the west coast of North America. Abalone is considered a culinary delicacy but was nearly brought to extinction. As such, harvesting abalones are now under strict regulations.\n",
    "\n",
    "*How can we apply classification to abalones?*\n",
    "- Abalone is classified into 3 categories of gender: male, female and infant. Male and female classification is important for economic purposes while the infant category was established in an effort to maintain abalone sustainability.\n",
    "\n",
    "**Clearly state the question you will try to answer with your project**\n",
    "\n",
    "`Question:` *What is the effective gender classification of a given abalone?*\n",
    "- As stated above, we will define ‘effective gender’ as falling into one of three categories, male, female, and infant. The classification of abalone gender will be determined by factors of height, diameter, whole weight, and length.\n",
    "\n",
    "**Identify and describe the dataset that will be used to answer the question**\n",
    "- The data set used for this project is the abalone data set provided by [UC Irvine Machine Learning Repository](https://archive.ics.uci.edu/ml/datasets/Abalone). The dataset provides multiple continuous data such as length, diameter, height, whole weight, shucked weight and shell weight as well as nominal data of gender. As such, this dataset is optimal for a classification problem.\n"
   ]
  },
  {
   "cell_type": "markdown",
   "id": "ee96e3b2-16c6-4110-916b-f2f60746401c",
   "metadata": {
    "tags": []
   },
   "source": [
    "### Preliminary exploratory data analysis"
   ]
  },
  {
   "cell_type": "code",
   "execution_count": 1,
   "id": "06a12bf3-1184-4d59-9c69-77f15a32fe2a",
   "metadata": {
    "tags": []
   },
   "outputs": [
    {
     "name": "stderr",
     "output_type": "stream",
     "text": [
      "── \u001b[1mAttaching packages\u001b[22m ─────────────────────────────────────── tidyverse 1.3.1 ──\n",
      "\n",
      "\u001b[32m✔\u001b[39m \u001b[34mggplot2\u001b[39m 3.3.6     \u001b[32m✔\u001b[39m \u001b[34mpurrr  \u001b[39m 0.3.4\n",
      "\u001b[32m✔\u001b[39m \u001b[34mtibble \u001b[39m 3.1.7     \u001b[32m✔\u001b[39m \u001b[34mdplyr  \u001b[39m 1.0.9\n",
      "\u001b[32m✔\u001b[39m \u001b[34mtidyr  \u001b[39m 1.2.0     \u001b[32m✔\u001b[39m \u001b[34mstringr\u001b[39m 1.4.0\n",
      "\u001b[32m✔\u001b[39m \u001b[34mreadr  \u001b[39m 2.1.2     \u001b[32m✔\u001b[39m \u001b[34mforcats\u001b[39m 0.5.1\n",
      "\n",
      "── \u001b[1mConflicts\u001b[22m ────────────────────────────────────────── tidyverse_conflicts() ──\n",
      "\u001b[31m✖\u001b[39m \u001b[34mdplyr\u001b[39m::\u001b[32mfilter()\u001b[39m masks \u001b[34mstats\u001b[39m::filter()\n",
      "\u001b[31m✖\u001b[39m \u001b[34mdplyr\u001b[39m::\u001b[32mlag()\u001b[39m    masks \u001b[34mstats\u001b[39m::lag()\n",
      "\n",
      "── \u001b[1mAttaching packages\u001b[22m ────────────────────────────────────── tidymodels 1.0.0 ──\n",
      "\n",
      "\u001b[32m✔\u001b[39m \u001b[34mbroom       \u001b[39m 1.0.0     \u001b[32m✔\u001b[39m \u001b[34mrsample     \u001b[39m 1.0.0\n",
      "\u001b[32m✔\u001b[39m \u001b[34mdials       \u001b[39m 1.0.0     \u001b[32m✔\u001b[39m \u001b[34mtune        \u001b[39m 1.0.0\n",
      "\u001b[32m✔\u001b[39m \u001b[34minfer       \u001b[39m 1.0.2     \u001b[32m✔\u001b[39m \u001b[34mworkflows   \u001b[39m 1.0.0\n",
      "\u001b[32m✔\u001b[39m \u001b[34mmodeldata   \u001b[39m 1.0.0     \u001b[32m✔\u001b[39m \u001b[34mworkflowsets\u001b[39m 1.0.0\n",
      "\u001b[32m✔\u001b[39m \u001b[34mparsnip     \u001b[39m 1.0.0     \u001b[32m✔\u001b[39m \u001b[34myardstick   \u001b[39m 1.0.0\n",
      "\u001b[32m✔\u001b[39m \u001b[34mrecipes     \u001b[39m 1.0.1     \n",
      "\n",
      "── \u001b[1mConflicts\u001b[22m ───────────────────────────────────────── tidymodels_conflicts() ──\n",
      "\u001b[31m✖\u001b[39m \u001b[34mscales\u001b[39m::\u001b[32mdiscard()\u001b[39m masks \u001b[34mpurrr\u001b[39m::discard()\n",
      "\u001b[31m✖\u001b[39m \u001b[34mdplyr\u001b[39m::\u001b[32mfilter()\u001b[39m   masks \u001b[34mstats\u001b[39m::filter()\n",
      "\u001b[31m✖\u001b[39m \u001b[34mrecipes\u001b[39m::\u001b[32mfixed()\u001b[39m  masks \u001b[34mstringr\u001b[39m::fixed()\n",
      "\u001b[31m✖\u001b[39m \u001b[34mdplyr\u001b[39m::\u001b[32mlag()\u001b[39m      masks \u001b[34mstats\u001b[39m::lag()\n",
      "\u001b[31m✖\u001b[39m \u001b[34myardstick\u001b[39m::\u001b[32mspec()\u001b[39m masks \u001b[34mreadr\u001b[39m::spec()\n",
      "\u001b[31m✖\u001b[39m \u001b[34mrecipes\u001b[39m::\u001b[32mstep()\u001b[39m   masks \u001b[34mstats\u001b[39m::step()\n",
      "\u001b[34m•\u001b[39m Search for functions across packages at \u001b[32mhttps://www.tidymodels.org/find/\u001b[39m\n",
      "\n"
     ]
    }
   ],
   "source": [
    "### Run this cell before continuing. \n",
    "library(repr)\n",
    "library(tidyverse)\n",
    "library(tidymodels)\n",
    "options(repr.matrix.max.rows = 6) #limits output of dataframes to 6 rows"
   ]
  },
  {
   "cell_type": "code",
   "execution_count": 2,
   "id": "038231cd-adb7-4035-bc8a-6341e7b5946a",
   "metadata": {},
   "outputs": [
    {
     "name": "stderr",
     "output_type": "stream",
     "text": [
      "\u001b[1mRows: \u001b[22m\u001b[34m4177\u001b[39m \u001b[1mColumns: \u001b[22m\u001b[34m9\u001b[39m\n",
      "\u001b[36m──\u001b[39m \u001b[1mColumn specification\u001b[22m \u001b[36m────────────────────────────────────────────────────────\u001b[39m\n",
      "\u001b[1mDelimiter:\u001b[22m \",\"\n",
      "\u001b[31mchr\u001b[39m (1): X1\n",
      "\u001b[32mdbl\u001b[39m (8): X2, X3, X4, X5, X6, X7, X8, X9\n",
      "\n",
      "\u001b[36mℹ\u001b[39m Use `spec()` to retrieve the full column specification for this data.\n",
      "\u001b[36mℹ\u001b[39m Specify the column types or set `show_col_types = FALSE` to quiet this message.\n"
     ]
    },
    {
     "data": {
      "text/html": [
       "<table class=\"dataframe\">\n",
       "<caption>A tibble: 4177 × 5</caption>\n",
       "<thead>\n",
       "\t<tr><th scope=col>sex</th><th scope=col>length</th><th scope=col>diameter</th><th scope=col>height</th><th scope=col>weight</th></tr>\n",
       "\t<tr><th scope=col>&lt;fct&gt;</th><th scope=col>&lt;dbl&gt;</th><th scope=col>&lt;dbl&gt;</th><th scope=col>&lt;dbl&gt;</th><th scope=col>&lt;dbl&gt;</th></tr>\n",
       "</thead>\n",
       "<tbody>\n",
       "\t<tr><td>M</td><td>0.455</td><td>0.365</td><td>0.095</td><td>0.5140</td></tr>\n",
       "\t<tr><td>M</td><td>0.350</td><td>0.265</td><td>0.090</td><td>0.2255</td></tr>\n",
       "\t<tr><td>F</td><td>0.530</td><td>0.420</td><td>0.135</td><td>0.6770</td></tr>\n",
       "\t<tr><td>⋮</td><td>⋮</td><td>⋮</td><td>⋮</td><td>⋮</td></tr>\n",
       "\t<tr><td>M</td><td>0.600</td><td>0.475</td><td>0.205</td><td>1.1760</td></tr>\n",
       "\t<tr><td>F</td><td>0.625</td><td>0.485</td><td>0.150</td><td>1.0945</td></tr>\n",
       "\t<tr><td>M</td><td>0.710</td><td>0.555</td><td>0.195</td><td>1.9485</td></tr>\n",
       "</tbody>\n",
       "</table>\n"
      ],
      "text/latex": [
       "A tibble: 4177 × 5\n",
       "\\begin{tabular}{lllll}\n",
       " sex & length & diameter & height & weight\\\\\n",
       " <fct> & <dbl> & <dbl> & <dbl> & <dbl>\\\\\n",
       "\\hline\n",
       "\t M & 0.455 & 0.365 & 0.095 & 0.5140\\\\\n",
       "\t M & 0.350 & 0.265 & 0.090 & 0.2255\\\\\n",
       "\t F & 0.530 & 0.420 & 0.135 & 0.6770\\\\\n",
       "\t ⋮ & ⋮ & ⋮ & ⋮ & ⋮\\\\\n",
       "\t M & 0.600 & 0.475 & 0.205 & 1.1760\\\\\n",
       "\t F & 0.625 & 0.485 & 0.150 & 1.0945\\\\\n",
       "\t M & 0.710 & 0.555 & 0.195 & 1.9485\\\\\n",
       "\\end{tabular}\n"
      ],
      "text/markdown": [
       "\n",
       "A tibble: 4177 × 5\n",
       "\n",
       "| sex &lt;fct&gt; | length &lt;dbl&gt; | diameter &lt;dbl&gt; | height &lt;dbl&gt; | weight &lt;dbl&gt; |\n",
       "|---|---|---|---|---|\n",
       "| M | 0.455 | 0.365 | 0.095 | 0.5140 |\n",
       "| M | 0.350 | 0.265 | 0.090 | 0.2255 |\n",
       "| F | 0.530 | 0.420 | 0.135 | 0.6770 |\n",
       "| ⋮ | ⋮ | ⋮ | ⋮ | ⋮ |\n",
       "| M | 0.600 | 0.475 | 0.205 | 1.1760 |\n",
       "| F | 0.625 | 0.485 | 0.150 | 1.0945 |\n",
       "| M | 0.710 | 0.555 | 0.195 | 1.9485 |\n",
       "\n"
      ],
      "text/plain": [
       "     sex length diameter height weight\n",
       "1    M   0.455  0.365    0.095  0.5140\n",
       "2    M   0.350  0.265    0.090  0.2255\n",
       "3    F   0.530  0.420    0.135  0.6770\n",
       "⋮    ⋮   ⋮      ⋮        ⋮      ⋮     \n",
       "4175 M   0.600  0.475    0.205  1.1760\n",
       "4176 F   0.625  0.485    0.150  1.0945\n",
       "4177 M   0.710  0.555    0.195  1.9485"
      ]
     },
     "metadata": {},
     "output_type": "display_data"
    }
   ],
   "source": [
    "## READING AND TIDYING\n",
    "\n",
    "url <- \"https://archive.ics.uci.edu/ml/machine-learning-databases/abalone/abalone.data\"\n",
    "\n",
    "# read, rename, and mutate as needed\n",
    "abalone <-  read_csv(url, col_names = FALSE) |>\n",
    "        rename(sex = X1,\n",
    "               length = X2,\n",
    "               diameter = X3,\n",
    "               height = X4,\n",
    "               weight = X5, # weight == whole_weight but as we are ignoring the rest we name it as such\n",
    "               shucked_weight = X6,\n",
    "               viscera_weight = X7,\n",
    "               shell_weight = X8,\n",
    "               rings = X9) |>\n",
    "        mutate(sex = as.factor(sex), rings = as.integer(rings))\n",
    "\n",
    "# select the cols with our predictors         \n",
    "abalone <- abalone |>\n",
    "    select(sex, length, diameter, height, weight)\n",
    "\n",
    "abalone"
   ]
  },
  {
   "cell_type": "code",
   "execution_count": 3,
   "id": "a4af186f-e91a-4733-8140-b9fe11e899aa",
   "metadata": {},
   "outputs": [],
   "source": [
    "## SPLITTING THE DATA\n",
    "\n",
    "abalone_split <- initial_split(abalone, prop=0.75, strata=sex)\n",
    "abalone_train <- training(abalone_split)\n",
    "abalone_test <- testing(abalone_split)"
   ]
  },
  {
   "cell_type": "code",
   "execution_count": 4,
   "id": "48bd5568-147b-4706-9ac2-9bee6f35315c",
   "metadata": {},
   "outputs": [
    {
     "data": {
      "text/html": [
       "<table class=\"dataframe\">\n",
       "<caption>A tibble: 3 × 2</caption>\n",
       "<thead>\n",
       "\t<tr><th scope=col>sex</th><th scope=col>count</th></tr>\n",
       "\t<tr><th scope=col>&lt;fct&gt;</th><th scope=col>&lt;int&gt;</th></tr>\n",
       "</thead>\n",
       "<tbody>\n",
       "\t<tr><td>M</td><td>1146</td></tr>\n",
       "\t<tr><td>I</td><td>1006</td></tr>\n",
       "\t<tr><td>F</td><td> 980</td></tr>\n",
       "</tbody>\n",
       "</table>\n"
      ],
      "text/latex": [
       "A tibble: 3 × 2\n",
       "\\begin{tabular}{ll}\n",
       " sex & count\\\\\n",
       " <fct> & <int>\\\\\n",
       "\\hline\n",
       "\t M & 1146\\\\\n",
       "\t I & 1006\\\\\n",
       "\t F &  980\\\\\n",
       "\\end{tabular}\n"
      ],
      "text/markdown": [
       "\n",
       "A tibble: 3 × 2\n",
       "\n",
       "| sex &lt;fct&gt; | count &lt;int&gt; |\n",
       "|---|---|\n",
       "| M | 1146 |\n",
       "| I | 1006 |\n",
       "| F |  980 |\n",
       "\n"
      ],
      "text/plain": [
       "  sex count\n",
       "1 M   1146 \n",
       "2 I   1006 \n",
       "3 F    980 "
      ]
     },
     "metadata": {},
     "output_type": "display_data"
    }
   ],
   "source": [
    "## SUMMARIZING BY COUNT\n",
    "\n",
    "abalone_counts <- abalone_train |>\n",
    "        group_by(sex) |>\n",
    "        summarize(count = n()) |>\n",
    "        arrange(by=desc(count))\n",
    "\n",
    "abalone_counts"
   ]
  },
  {
   "cell_type": "code",
   "execution_count": 5,
   "id": "7f3dfc6a-2225-4cce-8e1e-50e4160ccf9b",
   "metadata": {
    "tags": []
   },
   "outputs": [
    {
     "data": {
      "text/html": [
       "<table class=\"dataframe\">\n",
       "<caption>A tibble: 3 × 5</caption>\n",
       "<thead>\n",
       "\t<tr><th scope=col>sex</th><th scope=col>mean_length</th><th scope=col>mean_diameter</th><th scope=col>mean_height</th><th scope=col>mean_weight</th></tr>\n",
       "\t<tr><th scope=col>&lt;fct&gt;</th><th scope=col>&lt;dbl&gt;</th><th scope=col>&lt;dbl&gt;</th><th scope=col>&lt;dbl&gt;</th><th scope=col>&lt;dbl&gt;</th></tr>\n",
       "</thead>\n",
       "<tbody>\n",
       "\t<tr><td>F</td><td>0.5797449</td><td>0.4552041</td><td>0.1584949</td><td>1.0507337</td></tr>\n",
       "\t<tr><td>I</td><td>0.4271372</td><td>0.3262575</td><td>0.1078827</td><td>0.4285696</td></tr>\n",
       "\t<tr><td>M</td><td>0.5626222</td><td>0.4406675</td><td>0.1519895</td><td>0.9957866</td></tr>\n",
       "</tbody>\n",
       "</table>\n"
      ],
      "text/latex": [
       "A tibble: 3 × 5\n",
       "\\begin{tabular}{lllll}\n",
       " sex & mean\\_length & mean\\_diameter & mean\\_height & mean\\_weight\\\\\n",
       " <fct> & <dbl> & <dbl> & <dbl> & <dbl>\\\\\n",
       "\\hline\n",
       "\t F & 0.5797449 & 0.4552041 & 0.1584949 & 1.0507337\\\\\n",
       "\t I & 0.4271372 & 0.3262575 & 0.1078827 & 0.4285696\\\\\n",
       "\t M & 0.5626222 & 0.4406675 & 0.1519895 & 0.9957866\\\\\n",
       "\\end{tabular}\n"
      ],
      "text/markdown": [
       "\n",
       "A tibble: 3 × 5\n",
       "\n",
       "| sex &lt;fct&gt; | mean_length &lt;dbl&gt; | mean_diameter &lt;dbl&gt; | mean_height &lt;dbl&gt; | mean_weight &lt;dbl&gt; |\n",
       "|---|---|---|---|---|\n",
       "| F | 0.5797449 | 0.4552041 | 0.1584949 | 1.0507337 |\n",
       "| I | 0.4271372 | 0.3262575 | 0.1078827 | 0.4285696 |\n",
       "| M | 0.5626222 | 0.4406675 | 0.1519895 | 0.9957866 |\n",
       "\n"
      ],
      "text/plain": [
       "  sex mean_length mean_diameter mean_height mean_weight\n",
       "1 F   0.5797449   0.4552041     0.1584949   1.0507337  \n",
       "2 I   0.4271372   0.3262575     0.1078827   0.4285696  \n",
       "3 M   0.5626222   0.4406675     0.1519895   0.9957866  "
      ]
     },
     "metadata": {},
     "output_type": "display_data"
    },
    {
     "data": {
      "image/png": "[encoded data removed]",
      "text/plain": [
       "plot without title"
      ]
     },
     "metadata": {
      "image/png": {
       "height": 240,
       "width": 480
      }
     },
     "output_type": "display_data"
    },
    {
     "data": {
      "image/png": "[encoded data removed]",
      "text/plain": [
       "plot without title"
      ]
     },
     "metadata": {
      "image/png": {
       "height": 240,
       "width": 480
      }
     },
     "output_type": "display_data"
    },
    {
     "data": {
      "image/png": "[encoded data removed]",
      "text/plain": [
       "plot without title"
      ]
     },
     "metadata": {
      "image/png": {
       "height": 240,
       "width": 480
      }
     },
     "output_type": "display_data"
    },
    {
     "data": {
      "image/png": "[encoded data removed]",
      "text/plain": [
       "plot without title"
      ]
     },
     "metadata": {
      "image/png": {
       "height": 240,
       "width": 480
      }
     },
     "output_type": "display_data"
    }
   ],
   "source": [
    "## GRAPHING: HEIGHT VS. WEIGHT BY SEX\n",
    "\n",
    "options(repr.plot.width = 8, repr.plot.height = 4)\n",
    "\n",
    "abalone_summarize <- abalone_train |>\n",
    "        group_by(sex) |>\n",
    "        summarize(\n",
    "            mean_length = mean(length),\n",
    "            mean_diameter = mean(diameter),\n",
    "            mean_height = mean(height),\n",
    "            mean_weight = mean(weight)\n",
    "        )\n",
    "\n",
    "abalone_summarize\n",
    "\n",
    "\n",
    "abalone_graph_length <- abalone_summarize |>\n",
    "        ggplot(aes(x=mean_length, \n",
    "                   y=fct_reorder(sex, mean_length))) +\n",
    "        geom_bar(stat=\"identity\") +\n",
    "        labs(x = \"Mean Length (mm)\", y = \"Sex (Male/Female/Infant)\", title=\"Abalone Mean Length by Sex\") +\n",
    "        theme(text = element_text(size = 12))\n",
    "\n",
    "abalone_graph_diameter <- abalone_summarize |>\n",
    "        ggplot(aes(x=mean_diameter, \n",
    "                   y=fct_reorder(sex, mean_diameter))) +\n",
    "        geom_bar(stat=\"identity\") +\n",
    "        labs(x = \"Mean Diameter (mm)\", y = \"Sex (Male/Female/Infant)\", title=\"Abalone Mean Diameter by Sex\") +\n",
    "        theme(text = element_text(size = 12))\n",
    "\n",
    "abalone_graph_height <- abalone_summarize |>\n",
    "        ggplot(aes(x=mean_height, \n",
    "                   y=fct_reorder(sex, mean_height))) +\n",
    "        geom_bar(stat=\"identity\") +\n",
    "        labs(x = \"Mean Height (mm)\", y = \"Sex (Male/Female/Infant)\", title=\"Abalone Mean Heights by Sex\") +\n",
    "        theme(text = element_text(size = 12))\n",
    "\n",
    "abalone_graph_weight <- abalone_summarize |>\n",
    "        ggplot(aes(x=mean_weight, \n",
    "                   y=fct_reorder(sex, mean_weight))) +\n",
    "        geom_bar(stat=\"identity\") +\n",
    "        labs(x = \"Mean Weight (mm)\", y = \"Sex (Male/Female/Infant)\", title=\"Abalone Mean Weight by Sex\") +\n",
    "        theme(text = element_text(size = 12))\n",
    "\n",
    "\n",
    "abalone_graph_length\n",
    "abalone_graph_diameter\n",
    "abalone_graph_height\n",
    "abalone_graph_weight"
   ]
  },
  {
   "cell_type": "markdown",
   "id": "b2880d38-0b22-4c91-b700-92956e766e29",
   "metadata": {
    "tags": []
   },
   "source": [
    "### Methods\n",
    "**Explain how you will conduct either your data analysis and which variables/columns you will use. Note - you do not need to use all variables/columns that exist in the raw data set. In fact, that's often not a good idea. For each variable think: is this a useful variable for prediction?**\n",
    "\n",
    "- We will conduct our data analysis by first loading out abalone data from the [UCI Machine Learning Repository](https://archive.ics.uci.edu/ml/datasets/Abalone) into R. We will then divide our data into $75\\%$ training data and $25\\%$ testing data. After creating a recipe, we will standardize our data (center and scale) focusing on the variables of `length`, `diameter`, `height`, and `weight`. Next, we will perform the classification of the effective gender by putting the standardized data into a workflow. Using the workflow, we will predict against the testing data and determine our prediction’s accuracy.\n",
    "\n",
    "- We will visualize our results with a scatterplot circling a given unknown point (from the testing data) and the neighbouring $k$ points categorized by colour (for each gender). We can also, for each predictor, create a histogram of the testing set and colour by gender. This will allow us to visualize the relative mean and the importance of each factor. This will likely require mapping some sort of rounding factor for each observation. By comparing both our visualization and prediction, we will conclude the gender of a given abalone and the mean of each variable for each specific gender."
   ]
  },
  {
   "cell_type": "markdown",
   "id": "b3248fdd-3c37-49fb-ae2a-fad4a6df5c25",
   "metadata": {},
   "source": [
    "### Expected Outcomes and Significance\n",
    "\n",
    "**What do you expect to find?**\n",
    "\n",
    "- The gender category of new abalones of unknown gender categories based on training data and the new abalones’ dimensions\n",
    "\n",
    "**What impact could such findings have?**\n",
    "- More efficient sale and logistics\n",
    "- Easier and faster to classify new abalones using only their dimension data instead of having to analyze their organs\n",
    "    - the alternative method requires taking each one out of the water and observing the colour of its reproductive organs, which is time-consuming. [(source)](https://www.marinebio.net/marinescience/06future/abrepro.htm)\n",
    "\n",
    "\n",
    "**What future questions could this lead to?**\n",
    "- What are the characteristics of abalones tagged expensive (i.e. what are the most significant metrics merchants use to price the abalones)?\n",
    "- What are the evolutionary causes behind certain factors (weight, length) being higher or lower for a certain gender?\n"
   ]
  }
 ],
 "metadata": {
  "kernelspec": {
   "display_name": "R",
   "language": "R",
   "name": "ir"
  },
  "language_info": {
   "codemirror_mode": "r",
   "file_extension": ".r",
   "mimetype": "text/x-r-source",
   "name": "R",
   "pygments_lexer": "r",
   "version": "4.1.3"
  }
 },
 "nbformat": 4,
 "nbformat_minor": 5
}
